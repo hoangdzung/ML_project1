{
 "cells": [
  {
   "cell_type": "markdown",
   "metadata": {},
   "source": [
    "## Table of content: <a class=\"anchor\" id=\"top\"></a>\n",
    "* [Missing values handler](#missing-value-handler)\n",
    "    * [Drop columns containing missing values (M1)](#m1)\n",
    "    * [Replace missing values by mean (M2)](#m2)\n",
    "    * [Split by mass, replace missing values by mean (M3)](#m3)\n",
    "    * [Split by jet_num, replace missing values by mean (M4)](#m4)\n",
    "    * [Split by jet_num and mass, replace missing values by mean (M5)](#m5)\n",
    "* [Remove outliers and feature augmentation](#jetnumRO)\n",
    "    * [Split by jet_num and remove ouliters](#jetnumRO)    \n",
    "    * [Split by jet_num and remove ouliters + polynomial](#jetnumROPE3)\n",
    "    * [Split by jet_num, mass and remove ouliters](#jetnummassRO)    \n",
    "    * [Split by jet_num, mass and remove ouliters + polynomial](#jetnummassROPE2)\n",
    "<!--     * [Split by jet_num, mass and remove ouliters + polynomial](#jetnummassROPE3) -->\n",
    "* [Degree search](#deg2)\n",
    "    * [Degree 2](#deg2)    \n",
    "    * [Degree 3](#deg3)    \n",
    "    * [Degree 4](#deg4)    \n",
    "    * [Degree 5](#deg5)    \n",
    "* [Crossfeatures augmentation](#crossfeat)\n",
    "* [Nonlinear augmentation](#nonlinear)\n"
   ]
  },
  {
   "cell_type": "code",
   "execution_count": 103,
   "metadata": {},
   "outputs": [
    {
     "name": "stdout",
     "output_type": "stream",
     "text": [
      "The autoreload extension is already loaded. To reload it, use:\n",
      "  %reload_ext autoreload\n"
     ]
    }
   ],
   "source": [
    "# Useful starting lines\n",
    "%matplotlib inline\n",
    "import numpy as np\n",
    "import matplotlib.pyplot as plt\n",
    "%load_ext autoreload\n",
    "%autoreload 2\n"
   ]
  },
  {
   "cell_type": "code",
   "execution_count": 208,
   "metadata": {},
   "outputs": [],
   "source": [
    "from crossval import GridSearchCV, CrossVal, PartitionCrossVal, MultiPartitionCrossVal, MassPartitionCrossVal\n",
    "from implementations import logistic_regression, reg_logistic_regression, \\\n",
    "least_squares, least_squares_GD, least_squares_SGD,ridge_regression \n",
    "from proj1_helpers import load_csv_data, predict_labels, acc_score, f1_score\n",
    "from preprocessing import NonLinearTransformer, Normalizer, Imputer, PolynomialFeature, Pipeline, remove_outliers"
   ]
  },
  {
   "cell_type": "code",
   "execution_count": 94,
   "metadata": {},
   "outputs": [],
   "source": [
    "col2id={'DER_mass_MMC': 0,\n",
    " 'DER_mass_transverse_met_lep': 1,\n",
    " 'DER_mass_vis': 2,\n",
    " 'DER_pt_h': 3,\n",
    " 'DER_deltaeta_jet_jet': 4,\n",
    " 'DER_mass_jet_jet': 5,\n",
    " 'DER_prodeta_jet_jet': 6,\n",
    " 'DER_deltar_tau_lep': 7,\n",
    " 'DER_pt_tot': 8,\n",
    " 'DER_sum_pt': 9,\n",
    " 'DER_pt_ratio_lep_tau': 10,\n",
    " 'DER_met_phi_centrality': 11,\n",
    " 'DER_lep_eta_centrality': 12,\n",
    " 'PRI_tau_pt': 13,\n",
    " 'PRI_tau_eta': 14,\n",
    " 'PRI_tau_phi': 15,\n",
    " 'PRI_lep_pt': 16,\n",
    " 'PRI_lep_eta': 17,\n",
    " 'PRI_lep_phi': 18,\n",
    " 'PRI_met': 19,\n",
    " 'PRI_met_phi': 20,\n",
    " 'PRI_met_sumet': 21,\n",
    " 'PRI_jet_num': 22,\n",
    " 'PRI_jet_leading_pt': 23,\n",
    " 'PRI_jet_leading_eta': 24,\n",
    " 'PRI_jet_leading_phi': 25,\n",
    " 'PRI_jet_subleading_pt': 26,\n",
    " 'PRI_jet_subleading_eta': 27,\n",
    " 'PRI_jet_subleading_phi': 28,\n",
    " 'PRI_jet_all_pt': 29}"
   ]
  },
  {
   "cell_type": "code",
   "execution_count": 39,
   "metadata": {
    "scrolled": false
   },
   "outputs": [],
   "source": [
    "DATA_TRAIN_PATH = 'data/train.csv' # TODO: download train data and supply path here \n",
    "y, tX, ids = load_csv_data(DATA_TRAIN_PATH)\n",
    "DATA_TEST_PATH = './data/test.csv' # TODO: download train data and supply path here \n",
    "_, tX_test, ids_test = load_csv_data(DATA_TEST_PATH)"
   ]
  },
  {
   "cell_type": "markdown",
   "metadata": {},
   "source": [
    "# Missing values handler <a class=\"anchor\" id=\"missing-value-handler\"></a>"
   ]
  },
  {
   "cell_type": "markdown",
   "metadata": {},
   "source": [
    "## Drop columns containing missing values (M1) <a class=\"anchor\" id=\"m1\"></a>\n",
    "[Back to top](#top)"
   ]
  },
  {
   "cell_type": "code",
   "execution_count": 112,
   "metadata": {},
   "outputs": [],
   "source": [
    "pipeline = Pipeline(Imputer(dropnan=True), Normalizer())"
   ]
  },
  {
   "cell_type": "code",
   "execution_count": 113,
   "metadata": {},
   "outputs": [
    {
     "name": "stdout",
     "output_type": "stream",
     "text": [
      "[0.733416   0.55798222] [0.00264334 0.00421453] [0.73361   0.5583651]\n",
      "[0.73362    0.55702553] [0.00261534 0.00419102] [0.733706   0.55699752]\n",
      "[0.509272   0.44025098] [0.06297554 0.07137247] [0.511443   0.44245289]\n",
      "[0.738572   0.57714405] [0.00246676 0.0040193 ] [0.738782   0.57743596]\n"
     ]
    }
   ],
   "source": [
    "for model in [least_squares, least_squares_GD, least_squares_SGD,logistic_regression]:\n",
    "    crossval = CrossVal(model,predict_labels,[acc_score, f1_score],refit=False)\n",
    "    _,_, scores_mean, scores_std, train_scores_mean = crossval.fit(y, tX, pipeline,gamma=1, early_stopping=True)\n",
    "    print(scores_mean, scores_std, train_scores_mean)"
   ]
  },
  {
   "cell_type": "code",
   "execution_count": 114,
   "metadata": {},
   "outputs": [
    {
     "name": "stdout",
     "output_type": "stream",
     "text": [
      "{'lambda_': 0.0001} [0.733376   0.55796932] [0.733545   0.55825366]\n",
      "{'lambda_': 0.0002782559402207126} [0.73338    0.55792048] [0.733539   0.55820275]\n",
      "{'lambda_': 0.000774263682681127} [0.733352   0.55771931] [0.733545   0.55809685]\n",
      "{'lambda_': 0.002154434690031882} [0.733256   0.55731897] [0.733478  0.5576165]\n",
      "{'lambda_': 0.005994842503189409} [0.7332     0.55658681] [0.733284   0.55663925]\n",
      "{'lambda_': 0.016681005372000592} [0.732556   0.55424095] [0.732704   0.55433443]\n",
      "{'lambda_': 0.046415888336127774} [0.730004   0.54996802] [0.730025  0.5500043]\n",
      "{'lambda_': 0.12915496650148828} [0.7245     0.54741535] [0.724527   0.54740954]\n",
      "{'lambda_': 0.3593813663804626} [0.71522    0.55092996] [0.715052   0.55060178]\n",
      "{'lambda_': 1.0} [0.705476  0.5577718] [0.705472   0.55768781]\n",
      "([0.73338, 0.5579204818612903], [0.002663831826523588, 0.004154174894547088]) (('lambda_', 0.0002782559402207126),)\n",
      "===============\n",
      "{'lambda_': 0.0001} [0.738676   0.57882732] [0.738903   0.57928302]\n",
      "{'lambda_': 0.0002782559402207126} [0.73872    0.57875474] [0.738829   0.57893716]\n",
      "{'lambda_': 0.000774263682681127} [0.738528   0.57775331] [0.738762   0.57818247]\n",
      "{'lambda_': 0.002154434690031882} [0.738276   0.57613198] [0.738503   0.57647238]\n",
      "{'lambda_': 0.005994842503189409} [0.737568   0.57274428] [0.737614  0.5727856]\n",
      "{'lambda_': 0.016681005372000592} [0.734432   0.56664773] [0.734513   0.56673141]\n",
      "{'lambda_': 0.046415888336127774} [0.728292   0.55991481] [0.728408   0.56005261]\n",
      "{'lambda_': 0.12915496650148828} [0.719176   0.55687129] [0.718983   0.55654605]\n",
      "{'lambda_': 0.3593813663804626} [0.708368   0.55757639] [0.708382   0.55752037]\n",
      "{'lambda_': 1.0} [0.647852   0.50768682] [0.647841  0.5076112]\n",
      "([0.73872, 0.5787547386641488], [0.0026352988445335892, 0.004203273437430578]) (('lambda_', 0.0002782559402207126),)\n",
      "===============\n"
     ]
    }
   ],
   "source": [
    "lambda_grids = {'lambda_':np.logspace(-4, 0, 10).tolist()}\n",
    "for model in [ridge_regression, reg_logistic_regression]:\n",
    "    gridsearch = GridSearchCV(model,predict_labels,[acc_score,f1_score],lambda_grids, CrossVal, refit=False)\n",
    "    _,_, scores, best_params, _ = gridsearch.fit(y, tX, pipeline,gamma=1, early_stopping=True)\n",
    "    print(scores, best_params)\n",
    "    print(\"===============\")"
   ]
  },
  {
   "cell_type": "markdown",
   "metadata": {},
   "source": [
    "## Replace missing values by mean (M2)<a class=\"anchor\" id=\"m2\"></a>\n",
    "[Back to top](#top)"
   ]
  },
  {
   "cell_type": "code",
   "execution_count": 115,
   "metadata": {},
   "outputs": [],
   "source": [
    "pipeline = Pipeline(Imputer(replacenan='mean'), Normalizer())"
   ]
  },
  {
   "cell_type": "code",
   "execution_count": 116,
   "metadata": {},
   "outputs": [
    {
     "name": "stdout",
     "output_type": "stream",
     "text": [
      "[0.744224   0.56999449] [0.00209702 0.00374195] [0.7445    0.5705157]\n",
      "[0.3781    0.3703198] [0.00210185 0.00298912] [0.378043   0.37031729]\n",
      "[0.5114     0.43036795] [0.08503598 0.05039708] [0.509891 0.429814]\n",
      "[0.750148   0.59361684] [0.00259235 0.00422535] [0.750302   0.59383493]\n"
     ]
    }
   ],
   "source": [
    "for model in [least_squares, least_squares_GD, least_squares_SGD,logistic_regression]:\n",
    "    crossval = CrossVal(model,predict_labels,[acc_score, f1_score],refit=False)\n",
    "    _,_, scores_mean, scores_std, train_scores_mean = crossval.fit(y, tX, pipeline,gamma=1, early_stopping=True)\n",
    "    print(scores_mean, scores_std, train_scores_mean)"
   ]
  },
  {
   "cell_type": "code",
   "execution_count": 117,
   "metadata": {},
   "outputs": [
    {
     "name": "stdout",
     "output_type": "stream",
     "text": [
      "{'lambda_': 0.0001} [0.744376   0.57028432] [0.744492   0.57051084]\n",
      "{'lambda_': 0.0002782559402207126} [0.744368   0.57026558] [0.74446    0.57043247]\n",
      "{'lambda_': 0.000774263682681127} [0.744312  0.5700613] [0.744379  0.5701901]\n",
      "{'lambda_': 0.002154434690031882} [0.7441     0.56938921] [0.744188   0.56960201]\n",
      "{'lambda_': 0.005994842503189409} [0.743596   0.56787804] [0.743696  0.5680658]\n",
      "{'lambda_': 0.016681005372000592} [0.742356   0.56431825] [0.742369   0.56443155]\n",
      "{'lambda_': 0.046415888336127774} [0.73944    0.55849718] [0.739481  0.5585552]\n",
      "{'lambda_': 0.12915496650148828} [0.73368    0.55205343] [0.734016   0.55268371]\n",
      "{'lambda_': 0.3593813663804626} [0.72692    0.55262579] [0.727066   0.55288919]\n",
      "{'lambda_': 1.0} [0.718992   0.55666795] [0.719056  0.5568439]\n",
      "([0.744376, 0.5702843235303472], [0.0020825906943036194, 0.0037660942246723387]) (('lambda_', 0.0001),)\n",
      "===============\n",
      "{'lambda_': 0.0001} [0.750228   0.59516439] [0.7505    0.5956501]\n",
      "{'lambda_': 0.0002782559402207126} [0.75018    0.59485474] [0.750455   0.59532312]\n",
      "{'lambda_': 0.000774263682681127} [0.750004  0.5938419] [0.750246   0.59427974]\n",
      "{'lambda_': 0.002154434690031882} [0.749568   0.59172698] [0.749786   0.59208947]\n",
      "{'lambda_': 0.005994842503189409} [0.747964   0.58671068] [0.748068   0.58678805]\n",
      "{'lambda_': 0.016681005372000592} [0.744396   0.57871392] [0.744399   0.57873316]\n",
      "{'lambda_': 0.046415888336127774} [0.73832    0.56963799] [0.738296   0.56958512]\n",
      "{'lambda_': 0.12915496650148828} [0.730376   0.56177832] [0.730245  0.5615173]\n",
      "{'lambda_': 0.3593813663804626} [0.721516   0.55851466] [0.721544   0.55868739]\n",
      "{'lambda_': 1.0} [0.655508   0.49684455] [0.655576   0.49694749]\n",
      "([0.7502279999999999, 0.595164393968078], [0.002580530178083579, 0.00403926038945109]) (('lambda_', 0.0001),)\n",
      "===============\n"
     ]
    }
   ],
   "source": [
    "lambda_grids = {'lambda_':np.logspace(-4, 0, 10).tolist()}\n",
    "for model in [ridge_regression, reg_logistic_regression]:\n",
    "    gridsearch = GridSearchCV(model,predict_labels,[acc_score,f1_score],lambda_grids, CrossVal, refit=False)\n",
    "    _,_, scores, best_params, _ = gridsearch.fit(y, tX, pipeline,gamma=1, early_stopping=True)\n",
    "    print(scores, best_params)\n",
    "    print(\"===============\")"
   ]
  },
  {
   "cell_type": "markdown",
   "metadata": {},
   "source": [
    "## Split by mass, replace missing values by mean (M3)<a class=\"anchor\" id=\"m3\"></a>\n",
    "[Back to top](#top)"
   ]
  },
  {
   "cell_type": "code",
   "execution_count": 205,
   "metadata": {},
   "outputs": [],
   "source": [
    "pipeline = Pipeline(Imputer(replacenan='mean'), Normalizer())"
   ]
  },
  {
   "cell_type": "code",
   "execution_count": 209,
   "metadata": {},
   "outputs": [
    {
     "name": "stdout",
     "output_type": "stream",
     "text": [
      "[0.750008   0.59514438] [0.00199369 0.00339488] [0.750324   0.59559433]\n",
      "[0.753556   0.60852245] [0.00208681 0.00362732] [0.753726   0.60870044]\n"
     ]
    }
   ],
   "source": [
    "for model in [least_squares,logistic_regression]:\n",
    "    crossval = MassPartitionCrossVal(model,predict_labels,[acc_score, f1_score],refit=False)\n",
    "    _,_, scores_mean, scores_std, train_scores_mean = crossval.fit(y, tX,pipeline, gamma=1, early_stopping=True)\n",
    "    print(scores_mean, scores_std, train_scores_mean)"
   ]
  },
  {
   "cell_type": "code",
   "execution_count": 210,
   "metadata": {},
   "outputs": [
    {
     "name": "stdout",
     "output_type": "stream",
     "text": [
      "{'lambda_': 0.0001} [0.750136   0.59526166] [0.750296  0.5955293]\n",
      "{'lambda_': 0.0002782559402207126} [0.750128   0.59518082] [0.750278   0.59545282]\n",
      "{'lambda_': 0.000774263682681127} [0.750052   0.59491875] [0.750231   0.59526847]\n",
      "{'lambda_': 0.002154434690031882} [0.749948   0.59441474] [0.750118   0.59471444]\n",
      "{'lambda_': 0.005994842503189409} [0.749644   0.59308875] [0.749532   0.59291341]\n",
      "{'lambda_': 0.016681005372000592} [0.748024   0.58901013] [0.748138   0.58910529]\n",
      "{'lambda_': 0.046415888336127774} [0.744956   0.58283521] [0.744993   0.58297516]\n",
      "{'lambda_': 0.12915496650148828} [0.740196   0.57647005] [0.740267   0.57651994]\n",
      "{'lambda_': 0.3593813663804626} [0.73428    0.57182029] [0.734316   0.57186626]\n",
      "{'lambda_': 1.0} [0.727284   0.56808277] [0.727202   0.56785994]\n",
      "([0.750136, 0.5952616577038311], [0.0021391736722388825, 0.0036923080162243878]) (('lambda_', 0.0001),)\n",
      "===============\n",
      "{'lambda_': 0.0001} [0.75408    0.61080592] [0.754114   0.61085689]\n",
      "{'lambda_': 0.0002782559402207126} [0.75418    0.61073429] [0.754      0.61041609]\n",
      "{'lambda_': 0.000774263682681127} [0.753688   0.60917761] [0.753774   0.60929958]\n",
      "{'lambda_': 0.002154434690031882} [0.752912   0.60623657] [0.753103   0.60654248]\n",
      "{'lambda_': 0.005994842503189409} [0.751156   0.60101745] [0.751403   0.60142959]\n",
      "{'lambda_': 0.016681005372000592} [0.748224   0.59416643] [0.748396   0.59438212]\n",
      "{'lambda_': 0.046415888336127774} [0.743184   0.58595623] [0.743277   0.58615572]\n",
      "{'lambda_': 0.12915496650148828} [0.736808   0.57797873] [0.736967   0.57831375]\n",
      "{'lambda_': 0.3593813663804626} [0.730008   0.57169447] [0.730105   0.57194493]\n",
      "{'lambda_': 1.0} [0.644552   0.47761685] [0.644569   0.47768309]\n",
      "([0.75418, 0.6107342940389591], [0.0019845805602192027, 0.0032317373719132876]) (('lambda_', 0.0002782559402207126),)\n",
      "===============\n"
     ]
    }
   ],
   "source": [
    "lambda_grids = {'lambda_':np.logspace(-4, 0, 10).tolist()}\n",
    "for model in [ridge_regression, reg_logistic_regression]:\n",
    "    gridsearch = GridSearchCV(model,predict_labels,[acc_score,f1_score],lambda_grids, MassPartitionCrossVal, refit=False)\n",
    "    _,_, scores, best_params, _ = gridsearch.fit(y, tX, pipeline, gamma=1, early_stopping=True)\n",
    "    print(scores, best_params)\n",
    "    print(\"===============\")"
   ]
  },
  {
   "cell_type": "markdown",
   "metadata": {},
   "source": [
    "## Split by jet_num, replace missing values by mean (M4)<a class=\"anchor\" id=\"m4\"></a>\n",
    "[Back to top](#top)"
   ]
  },
  {
   "cell_type": "code",
   "execution_count": 118,
   "metadata": {},
   "outputs": [],
   "source": [
    "pipeline = Pipeline(Imputer(replacenan='mean'), Normalizer())"
   ]
  },
  {
   "cell_type": "code",
   "execution_count": 126,
   "metadata": {},
   "outputs": [
    {
     "name": "stdout",
     "output_type": "stream",
     "text": [
      "[0.75872    0.59655483] [0.00180891 0.00406981] [0.758954   0.59705581]\n",
      "[0.758756  0.5954365] [0.00170882 0.00417422] [0.759126   0.59618379]\n",
      "[0.503996   0.43833642] [0.02553224 0.0311066 ] [0.502664 0.436871]\n",
      "[0.764596   0.62159128] [0.00141565 0.00269419] [0.764854   0.62211497]\n"
     ]
    }
   ],
   "source": [
    "for model in [least_squares, least_squares_GD, least_squares_SGD,logistic_regression]:\n",
    "    crossval = PartitionCrossVal(model,predict_labels,[acc_score, f1_score],refit=False)\n",
    "    _,_, scores_mean, scores_std, train_scores_mean = crossval.fit(y, tX, pipeline,gamma=1, early_stopping=True)\n",
    "    print(scores_mean, scores_std, train_scores_mean)"
   ]
  },
  {
   "cell_type": "code",
   "execution_count": 127,
   "metadata": {},
   "outputs": [
    {
     "name": "stdout",
     "output_type": "stream",
     "text": [
      "{'lambda_': 0.0001} [0.758752   0.59660425] [0.758928   0.59695846]\n",
      "{'lambda_': 0.0002782559402207126} [0.758744   0.59654744] [0.758902   0.59687322]\n",
      "{'lambda_': 0.000774263682681127} [0.75874    0.59640938] [0.758917   0.59681811]\n",
      "{'lambda_': 0.002154434690031882} [0.75854    0.59589022] [0.758847   0.59647721]\n",
      "{'lambda_': 0.005994842503189409} [0.7583     0.59480363] [0.758691   0.59563256]\n",
      "{'lambda_': 0.016681005372000592} [0.758124  0.5936173] [0.758454   0.59427333]\n",
      "{'lambda_': 0.046415888336127774} [0.757748   0.59305666] [0.757968   0.59339727]\n",
      "{'lambda_': 0.12915496650148828} [0.755672   0.59511464] [0.755794   0.59515877]\n",
      "{'lambda_': 0.3593813663804626} [0.752708   0.60514969] [0.752711   0.60503437]\n",
      "{'lambda_': 1.0} [0.747508   0.61543173] [0.747452   0.61518867]\n",
      "([0.758752, 0.5966042536836839], [0.0017038591491082794, 0.0038388256009084065]) (('lambda_', 0.0001),)\n",
      "===============\n",
      "{'lambda_': 0.0001} [0.76464    0.62295469] [0.765066   0.62360103]\n",
      "{'lambda_': 0.0002782559402207126} [0.764676   0.62258802] [0.765084 0.623281]\n",
      "{'lambda_': 0.000774263682681127} [0.764604   0.62146423] [0.765015 0.622231]\n",
      "{'lambda_': 0.002154434690031882} [0.764392   0.61932833] [0.764807   0.62008217]\n",
      "{'lambda_': 0.005994842503189409} [0.7633     0.61508561] [0.763797   0.61597678]\n",
      "{'lambda_': 0.016681005372000592} [0.76106    0.61013376] [0.761549   0.61080731]\n",
      "{'lambda_': 0.046415888336127774} [0.75786    0.60704991] [0.758153   0.60751399]\n",
      "{'lambda_': 0.12915496650148828} [0.753828   0.60897389] [0.754238   0.60949035]\n",
      "{'lambda_': 0.3593813663804626} [0.748768   0.61461566] [0.749037   0.61510262]\n",
      "{'lambda_': 1.0} [0.70378    0.55479267] [0.703824  0.5548679]\n",
      "([0.764676, 0.6225880225160653], [0.0013168690139873562, 0.0028285372939628986]) (('lambda_', 0.0002782559402207126),)\n",
      "===============\n"
     ]
    }
   ],
   "source": [
    "lambda_grids = {'lambda_':np.logspace(-4, 0, 10).tolist()}\n",
    "for model in [ridge_regression, reg_logistic_regression]:\n",
    "    gridsearch = GridSearchCV(model,predict_labels,[acc_score,f1_score],lambda_grids, PartitionCrossVal, refit=False)\n",
    "    _,_, scores, best_params, _ = gridsearch.fit(y, tX, pipeline,gamma=1, early_stopping=True)\n",
    "    print(scores, best_params)\n",
    "    print(\"===============\")"
   ]
  },
  {
   "cell_type": "markdown",
   "metadata": {},
   "source": [
    "## Split by jet_num and mass, replace missing values by mean (M5)<a class=\"anchor\" id=\"m5\"></a>\n",
    "[Back to top](#top)"
   ]
  },
  {
   "cell_type": "code",
   "execution_count": 138,
   "metadata": {},
   "outputs": [],
   "source": [
    "pipeline = Pipeline(Imputer(replacenan='mean'), Normalizer())"
   ]
  },
  {
   "cell_type": "code",
   "execution_count": 222,
   "metadata": {
    "scrolled": true
   },
   "outputs": [
    {
     "name": "stdout",
     "output_type": "stream",
     "text": [
      "[0.76506    0.62092549] [0.00124849 0.00342657] [0.765245   0.62128437]\n",
      "[0.768544   0.63469502] [0.00126519 0.00263315] [0.769164   0.63574293]\n"
     ]
    }
   ],
   "source": [
    "for model in [least_squares,logistic_regression]:\n",
    "    crossval = MultiPartitionCrossVal(model,predict_labels,[acc_score, f1_score],refit=False)\n",
    "    _,_, scores_mean, scores_std, train_scores_mean = crossval.fit(y, tX,pipeline, gamma=1, early_stopping=True)\n",
    "    print(scores_mean, scores_std, train_scores_mean)"
   ]
  },
  {
   "cell_type": "code",
   "execution_count": 223,
   "metadata": {
    "scrolled": false
   },
   "outputs": [
    {
     "name": "stdout",
     "output_type": "stream",
     "text": [
      "{'lambda_': 0.0001} [0.76498    0.62082485] [0.765223   0.62123776]\n",
      "{'lambda_': 0.0002782559402207126} [0.764936   0.62069289] [0.765219   0.62121043]\n",
      "{'lambda_': 0.000774263682681127} [0.764952   0.62063066] [0.765223   0.62113739]\n",
      "{'lambda_': 0.002154434690031882} [0.76486    0.62024957] [0.765107  0.6206906]\n",
      "{'lambda_': 0.005994842503189409} [0.764544   0.61912517] [0.764741   0.61954442]\n",
      "{'lambda_': 0.016681005372000592} [0.763576  0.6168024] [0.763998   0.61746875]\n",
      "{'lambda_': 0.046415888336127774} [0.761904   0.61400009] [0.762277   0.61445047]\n",
      "{'lambda_': 0.12915496650148828} [0.759068   0.61292073] [0.759542   0.61359157]\n",
      "{'lambda_': 0.3593813663804626} [0.75552    0.61652005] [0.755557   0.61656353]\n",
      "{'lambda_': 1.0} [0.750436   0.62009769] [0.75066    0.62043514]\n",
      "([0.76498, 0.6208248503380357], [0.0012773096727105796, 0.0035513760993357312]) (('lambda_', 0.0001),)\n",
      "===============\n",
      "{'lambda_': 0.0001} [0.768488  0.6354252] [0.769148   0.63655496]\n",
      "{'lambda_': 0.0002782559402207126} [0.768476   0.63512844] [0.769151   0.63631409]\n",
      "{'lambda_': 0.000774263682681127} [0.768512   0.63459681] [0.769214   0.63575287]\n",
      "{'lambda_': 0.002154434690031882} [0.76852    0.63328389] [0.768843   0.63380064]\n",
      "{'lambda_': 0.005994842503189409} [0.767312   0.62951626] [0.767806   0.63036986]\n",
      "{'lambda_': 0.016681005372000592} [0.764436   0.62378678] [0.764862   0.62448967]\n",
      "{'lambda_': 0.046415888336127774} [0.760592   0.61930012] [0.760865   0.61964686]\n",
      "{'lambda_': 0.12915496650148828} [0.75624    0.61827413] [0.756366   0.61834509]\n",
      "{'lambda_': 0.3593813663804626} [0.751696   0.62027391] [0.751925  0.6205395]\n",
      "{'lambda_': 1.0} [0.70456    0.55332965] [0.704485   0.55337298]\n",
      "([0.76852, 0.6332838886833392], [0.0016049922118191063, 0.0032920385941849588]) (('lambda_', 0.002154434690031882),)\n",
      "===============\n"
     ]
    }
   ],
   "source": [
    "lambda_grids = {'lambda_':np.logspace(-4, 0, 10).tolist()}\n",
    "for model in [ridge_regression, reg_logistic_regression]:\n",
    "    gridsearch = GridSearchCV(model,predict_labels,[acc_score,f1_score],lambda_grids, MultiPartitionCrossVal, refit=False)\n",
    "    _,_, scores, best_params, _ = gridsearch.fit(y, tX, pipeline, gamma=1, early_stopping=True)\n",
    "    print(scores, best_params)\n",
    "    print(\"===============\")"
   ]
  },
  {
   "cell_type": "markdown",
   "metadata": {},
   "source": [
    "# Remove outliers"
   ]
  },
  {
   "cell_type": "markdown",
   "metadata": {},
   "source": [
    "## Split by jet_num, replace missing values by mean, remove_outliers (jetnum RO)<a class=\"anchor\" id=\"jetnumRO\"></a>\n",
    "[Back to top](#top)"
   ]
  },
  {
   "cell_type": "code",
   "execution_count": 221,
   "metadata": {},
   "outputs": [],
   "source": [
    "pipeline = Pipeline(Imputer(replacenan='mean'), Normalizer())"
   ]
  },
  {
   "cell_type": "code",
   "execution_count": 139,
   "metadata": {},
   "outputs": [
    {
     "name": "stdout",
     "output_type": "stream",
     "text": [
      "[0.764424   0.62930314] [0.00169037 0.00359936] [0.77215664 0.63146595]\n",
      "[0.763728  0.6267087] [0.00158693 0.00357505] [0.77147121 0.62825639]\n",
      "[0.4898     0.41357878] [0.02948141 0.02992582] [0.49048395 0.4219911 ]\n",
      "[0.768372   0.64280944] [0.00125275 0.00292847] [0.77607964 0.64618231]\n"
     ]
    }
   ],
   "source": [
    "for model in [least_squares, least_squares_GD, least_squares_SGD,logistic_regression]:\n",
    "    crossval = PartitionCrossVal(model,predict_labels,[acc_score, f1_score],refit=False)\n",
    "    _,_, scores_mean, scores_std, train_scores_mean = crossval.fit(y, tX, pipeline,addition_on_train=remove_outliers,gamma=1, early_stopping=True)\n",
    "    print(scores_mean, scores_std, train_scores_mean)"
   ]
  },
  {
   "cell_type": "code",
   "execution_count": 140,
   "metadata": {},
   "outputs": [
    {
     "name": "stdout",
     "output_type": "stream",
     "text": [
      "{'lambda_': 0.0001} [0.764404   0.62926345] [0.77214342 0.63139708]\n",
      "{'lambda_': 0.0002782559402207126} [0.76434    0.62912996] [0.77214672 0.63135311]\n",
      "{'lambda_': 0.000774263682681127} [0.764256   0.62892603] [0.77214892 0.63126319]\n",
      "{'lambda_': 0.002154434690031882} [0.764136   0.62862582] [0.77209376 0.63088094]\n",
      "{'lambda_': 0.005994842503189409} [0.763288   0.62679535] [0.7718166  0.62976067]\n",
      "{'lambda_': 0.016681005372000592} [0.761968   0.62452233] [0.77100985 0.62789566]\n",
      "{'lambda_': 0.046415888336127774} [0.757812   0.61939591] [0.76864871 0.62487746]\n",
      "{'lambda_': 0.12915496650148828} [0.753024   0.61660352] [0.76607455 0.62447905]\n",
      "{'lambda_': 0.3593813663804626} [0.7457     0.61361915] [0.76046783 0.62256536]\n",
      "{'lambda_': 1.0} [0.737116   0.61038452] [0.7531635  0.61980249]\n",
      "([0.764404, 0.6292634518419062], [0.0017022526251998977, 0.0037054251044410648]) (('lambda_', 0.0001),)\n",
      "===============\n",
      "{'lambda_': 0.0001} [0.768516  0.6436737] [0.77605311 0.64732763]\n",
      "{'lambda_': 0.0002782559402207126} [0.768396   0.64331735] [0.77617009 0.6472077 ]\n",
      "{'lambda_': 0.000774263682681127} [0.76832    0.64281537] [0.77629375 0.64668076]\n",
      "{'lambda_': 0.002154434690031882} [0.767424   0.64045082] [0.77584674 0.64464974]\n",
      "{'lambda_': 0.005994842503189409} [0.764784   0.63552954] [0.77425269 0.64076352]\n",
      "{'lambda_': 0.016681005372000592} [0.759952   0.62845221] [0.77127809 0.63542371]\n",
      "{'lambda_': 0.046415888336127774} [0.754044   0.62158452] [0.76726999 0.63043567]\n",
      "{'lambda_': 0.12915496650148828} [0.747216  0.6163285] [0.76195805 0.62576627]\n",
      "{'lambda_': 0.3593813663804626} [0.739412   0.61190278] [0.75501906 0.62121111]\n",
      "{'lambda_': 1.0} [0.731404   0.60732354] [0.74775996 0.61635668]\n",
      "([0.768516, 0.6436737041579168], [0.0012962345466774256, 0.002872954981150521]) (('lambda_', 0.0001),)\n",
      "===============\n"
     ]
    }
   ],
   "source": [
    "lambda_grids = {'lambda_':np.logspace(-4, 0, 10).tolist()}\n",
    "for model in [ridge_regression, reg_logistic_regression]:\n",
    "    gridsearch = GridSearchCV(model,predict_labels,[acc_score,f1_score],lambda_grids, PartitionCrossVal, refit=False)\n",
    "    _,_, scores, best_params, _ = gridsearch.fit(y, tX, pipeline,addition_on_train=remove_outliers,gamma=1, early_stopping=True)\n",
    "    print(scores, best_params)\n",
    "    print(\"===============\")"
   ]
  },
  {
   "cell_type": "markdown",
   "metadata": {},
   "source": [
    "## Split by jet_num, replace missing values by mean, polynominal, remove_outliers (jetnum RO + PE3)<a class=\"anchor\" id=\"jetnumROPE3\"></a>\n",
    "[Back to top](#top)"
   ]
  },
  {
   "cell_type": "code",
   "execution_count": 141,
   "metadata": {},
   "outputs": [],
   "source": [
    "pipeline = Pipeline(Imputer(replacenan='mean'), PolynomialFeature(degree=3), Normalizer())"
   ]
  },
  {
   "cell_type": "code",
   "execution_count": 143,
   "metadata": {},
   "outputs": [
    {
     "name": "stdout",
     "output_type": "stream",
     "text": [
      "[0.805308   0.70402386] [0.00165576 0.00354422] [0.81131298 0.70978454]\n",
      "[0.789008  0.6820523] [0.00518431 0.00882208] [0.79453823 0.68069351]\n",
      "[0.489496   0.40235515] [0.01739672 0.02478912] [0.48887908 0.40673618]\n",
      "[0.814228   0.71668776] [0.00129    0.00259927] [0.81260782 0.7137965 ]\n"
     ]
    }
   ],
   "source": [
    "for model in [least_squares, least_squares_GD, least_squares_SGD,logistic_regression]:\n",
    "    crossval = PartitionCrossVal(model,predict_labels,[acc_score, f1_score],refit=False)\n",
    "    _,_, scores_mean, scores_std, train_scores_mean = crossval.fit(y, tX,pipeline,addition_on_train=remove_outliers, gamma=1, early_stopping=True)\n",
    "    print(scores_mean, scores_std, train_scores_mean)"
   ]
  },
  {
   "cell_type": "code",
   "execution_count": 144,
   "metadata": {},
   "outputs": [
    {
     "name": "stdout",
     "output_type": "stream",
     "text": [
      "{'lambda_': 0.0001} [0.809248   0.70566301] [0.8089881  0.70586912]\n",
      "{'lambda_': 0.0002782559402207126} [0.808664   0.70309957] [0.80766598 0.70310381]\n",
      "{'lambda_': 0.000774263682681127} [0.807184   0.69940843] [0.80580396 0.69899333]\n",
      "{'lambda_': 0.002154434690031882} [0.804488   0.69412675] [0.80275665 0.6922365 ]\n",
      "{'lambda_': 0.005994842503189409} [0.79962    0.68592577] [0.79745807 0.68152491]\n",
      "{'lambda_': 0.016681005372000592} [0.791072   0.67336629] [0.7901234  0.66744205]\n",
      "{'lambda_': 0.046415888336127774} [0.779644   0.65834988] [0.78272023 0.6550044 ]\n",
      "{'lambda_': 0.12915496650148828} [0.766632   0.64528304] [0.77557925 0.64699434]\n",
      "{'lambda_': 0.3593813663804626} [0.751328   0.63456209] [0.76644752 0.64167097]\n",
      "{'lambda_': 1.0} [0.735168  0.6240507] [0.75356371 0.6338536 ]\n",
      "([0.809248, 0.7056630086591363], [0.0008203999024865722, 0.0023977348536597795]) (('lambda_', 0.0001),)\n",
      "===============\n",
      "{'lambda_': 0.0001} [0.813832   0.71568632] [0.8122476  0.71296468]\n",
      "{'lambda_': 0.0002782559402207126} [0.813308   0.71435009] [0.81151871 0.71142351]\n",
      "{'lambda_': 0.000774263682681127} [0.81134    0.71011688] [0.80943909 0.70713212]\n",
      "{'lambda_': 0.002154434690031882} [0.806104   0.70028215] [0.80423055 0.69704397]\n",
      "{'lambda_': 0.005994842503189409} [0.795452   0.68409954] [0.79535808 0.68097588]\n",
      "{'lambda_': 0.016681005372000592} [0.782388   0.66680125] [0.78593661 0.66548883]\n",
      "{'lambda_': 0.046415888336127774} [0.76828    0.65084191] [0.77758923 0.65413002]\n",
      "{'lambda_': 0.12915496650148828} [0.753724   0.63827123] [0.7685213  0.64572355]\n",
      "{'lambda_': 0.3593813663804626} [0.738568   0.62677128] [0.75673461 0.63669965]\n",
      "{'lambda_': 1.0} [0.71274    0.59663601] [0.73067705 0.60388151]\n",
      "([0.813832, 0.7156863172233127], [0.0013204605257257683, 0.0026583516366063464]) (('lambda_', 0.0001),)\n",
      "===============\n"
     ]
    }
   ],
   "source": [
    "lambda_grids = {'lambda_':np.logspace(-4, 0, 10).tolist()}\n",
    "for model in [ridge_regression, reg_logistic_regression]:\n",
    "    gridsearch = GridSearchCV(model,predict_labels,[acc_score,f1_score],lambda_grids, PartitionCrossVal, refit=False)\n",
    "    _,_, scores, best_params, _ = gridsearch.fit(y, tX, pipeline,addition_on_train=remove_outliers,gamma=1, early_stopping=True)\n",
    "    print(scores, best_params)\n",
    "    print(\"===============\")"
   ]
  },
  {
   "cell_type": "markdown",
   "metadata": {},
   "source": [
    "## Split by jet_num and mass, replace missing values by mean, remove outliers,  (jetnum-mass RO)<a class=\"anchor\" id=\"jetnummassRO\"></a>\n",
    "[Back to top](#top)"
   ]
  },
  {
   "cell_type": "code",
   "execution_count": 211,
   "metadata": {},
   "outputs": [],
   "source": [
    "pipeline = Pipeline(Imputer(replacenan='mean'), Normalizer())"
   ]
  },
  {
   "cell_type": "code",
   "execution_count": 212,
   "metadata": {},
   "outputs": [
    {
     "name": "stdout",
     "output_type": "stream",
     "text": [
      "[0.768708   0.64238216] [0.00138648 0.00355112] [0.77503108 0.64470516]\n",
      "[0.769792   0.64972449] [0.00101922 0.00191239] [0.77632131 0.65158801]\n"
     ]
    }
   ],
   "source": [
    "for model in [least_squares,logistic_regression]:\n",
    "    crossval = MultiPartitionCrossVal(model,predict_labels,[acc_score, f1_score],refit=False)\n",
    "    _,_, scores_mean, scores_std, train_scores_mean = crossval.fit(y, tX,pipeline,addition_on_train=remove_outliers, gamma=1, early_stopping=True)\n",
    "    print(scores_mean, scores_std, train_scores_mean)"
   ]
  },
  {
   "cell_type": "code",
   "execution_count": 213,
   "metadata": {},
   "outputs": [
    {
     "name": "stdout",
     "output_type": "stream",
     "text": [
      "{'lambda_': 0.0001} [0.768684   0.64231392] [0.7749701  0.64461421]\n",
      "{'lambda_': 0.0002782559402207126} [0.768636   0.64224889] [0.77494234 0.64451997]\n",
      "{'lambda_': 0.000774263682681127} [0.76844    0.64179065] [0.77486913 0.64427709]\n",
      "{'lambda_': 0.002154434690031882} [0.768288   0.64137823] [0.77468049 0.64370049]\n",
      "{'lambda_': 0.005994842503189409} [0.767648   0.64023608] [0.77434316 0.64267931]\n",
      "{'lambda_': 0.016681005372000592} [0.76586    0.63701553] [0.77329257 0.64031468]\n",
      "{'lambda_': 0.046415888336127774} [0.762128   0.63182072] [0.77108705 0.63659723]\n",
      "{'lambda_': 0.12915496650148828} [0.757492   0.62711335] [0.76779414 0.63256494]\n",
      "{'lambda_': 0.3593813663804626} [0.751216   0.62227331] [0.76344066 0.62864758]\n",
      "{'lambda_': 1.0} [0.7429     0.61575067] [0.75686258 0.62255   ]\n",
      "([0.768684, 0.6423139187288733], [0.0013822532329497443, 0.003564923450373585]) (('lambda_', 0.0001),)\n",
      "===============\n",
      "{'lambda_': 0.0001} [0.770044   0.65071269] [0.77638673 0.65262096]\n",
      "{'lambda_': 0.0002782559402207126} [0.770068   0.65059676] [0.77644887 0.65242392]\n",
      "{'lambda_': 0.000774263682681127} [0.77006   0.6500738] [0.77653541 0.65196285]\n",
      "{'lambda_': 0.002154434690031882} [0.769524   0.64854697] [0.77640114 0.65064844]\n",
      "{'lambda_': 0.005994842503189409} [0.767568   0.64470919] [0.77543709 0.6478045 ]\n",
      "{'lambda_': 0.016681005372000592} [0.76284    0.63704824] [0.77235734 0.64186188]\n",
      "{'lambda_': 0.046415888336127774} [0.758056  0.6306265] [0.76896462 0.63653775]\n",
      "{'lambda_': 0.12915496650148828} [0.75242    0.62472705] [0.76459117 0.63118704]\n",
      "{'lambda_': 0.3593813663804626} [0.745248   0.61821053] [0.75861003 0.62455311]\n",
      "{'lambda_': 1.0} [0.737144   0.61147113] [0.75173673 0.6179114 ]\n",
      "([0.770068, 0.6505967627685234], [0.0013595057925584425, 0.00245687894828932]) (('lambda_', 0.0002782559402207126),)\n",
      "===============\n"
     ]
    }
   ],
   "source": [
    "lambda_grids = {'lambda_':np.logspace(-4, 0, 10).tolist()}\n",
    "for model in [ridge_regression, reg_logistic_regression]:\n",
    "    gridsearch = GridSearchCV(model,predict_labels,[acc_score,f1_score],lambda_grids, MultiPartitionCrossVal, refit=False)\n",
    "    _,_, scores, best_params, _ = gridsearch.fit(y, tX, pipeline,addition_on_train=remove_outliers, gamma=1, early_stopping=True)\n",
    "    print(scores, best_params)\n",
    "    print(\"===============\")"
   ]
  },
  {
   "cell_type": "markdown",
   "metadata": {},
   "source": [
    "## Split by jet_num and mass, replace missing values by mean, polynominal, remove_outliers (jetnum-mass RO+PE2)<a class=\"anchor\" id=\"jetnummassROPE2\"></a>\n",
    "[Back to top](#top)"
   ]
  },
  {
   "cell_type": "code",
   "execution_count": 245,
   "metadata": {},
   "outputs": [],
   "source": [
    "pipeline = Pipeline(Imputer(replacenan='mean'), PolynomialFeature(degree=2), Normalizer())"
   ]
  },
  {
   "cell_type": "code",
   "execution_count": 246,
   "metadata": {},
   "outputs": [
    {
     "name": "stdout",
     "output_type": "stream",
     "text": [
      "[0.816232   0.71990382] [0.00135343 0.00253639] [0.81486677 0.7186922 ]\n"
     ]
    }
   ],
   "source": [
    "for model in [logistic_regression]:\n",
    "    crossval = MultiPartitionCrossVal(model,predict_labels,[acc_score, f1_score],refit=False)\n",
    "    _,_, scores_mean, scores_std, train_scores_mean = crossval.fit(y, tX,pipeline,addition_on_train=remove_outliers, gamma=1, early_stopping=True)\n",
    "    print(scores_mean, scores_std, train_scores_mean)"
   ]
  },
  {
   "cell_type": "code",
   "execution_count": 247,
   "metadata": {},
   "outputs": [
    {
     "name": "stdout",
     "output_type": "stream",
     "text": [
      "{'lambda_': 0.0001} [0.815796   0.71901768] [0.81433227 0.7175902 ]\n",
      "{'lambda_': 0.0002782559402207126} [0.81488    0.71735152] [0.81357107 0.7159376 ]\n",
      "{'lambda_': 0.000774263682681127} [0.812352   0.71287548] [0.81073    0.71055767]\n",
      "{'lambda_': 0.002154434690031882} [0.806148   0.70279406] [0.80459187 0.69914821]\n",
      "{'lambda_': 0.005994842503189409} [0.795616   0.68785536] [0.79552121 0.68301445]\n",
      "{'lambda_': 0.016681005372000592} [0.782704   0.67014912] [0.78694585 0.66827023]\n",
      "{'lambda_': 0.046415888336127774} [0.771516   0.65686069] [0.78042703 0.6585401 ]\n",
      "{'lambda_': 0.12915496650148828} [0.761404   0.64700258] [0.773943   0.65128392]\n",
      "{'lambda_': 0.3593813663804626} [0.749296   0.63574665] [0.76492043 0.64166992]\n",
      "{'lambda_': 1.0} [0.718136  0.5921672] [0.73403344 0.59372247]\n",
      "([0.815796, 0.7190176763813689], [0.0013261915397106317, 0.002567150206303843]) (('lambda_', 0.0001),)\n",
      "===============\n"
     ]
    }
   ],
   "source": [
    "lambda_grids = {'lambda_':np.logspace(-4, 0, 10).tolist()}\n",
    "for model in [reg_logistic_regression]:\n",
    "    gridsearch = GridSearchCV(model,predict_labels,[acc_score,f1_score],lambda_grids, MultiPartitionCrossVal, refit=False)\n",
    "    _,_, scores, best_params, _ = gridsearch.fit(y, tX, pipeline,addition_on_train=remove_outliers, gamma=1, early_stopping=True)\n",
    "    print(scores, best_params)\n",
    "    print(\"===============\")"
   ]
  },
  {
   "cell_type": "markdown",
   "metadata": {},
   "source": [
    "## Split by jet_num and mass, replace missing values by mean, polynominal, remove_outliers (jetnum-mass RO+PE3)<a class=\"anchor\" id=\"jetnummassROPE3\"></a>\n",
    "[Back to top](#top)"
   ]
  },
  {
   "cell_type": "code",
   "execution_count": 156,
   "metadata": {},
   "outputs": [],
   "source": [
    "pipeline = Pipeline(Imputer(replacenan='mean'), PolynomialFeature(degree=3), Normalizer())"
   ]
  },
  {
   "cell_type": "code",
   "execution_count": 160,
   "metadata": {
    "scrolled": true
   },
   "outputs": [
    {
     "name": "stdout",
     "output_type": "stream",
     "text": [
      "[0.807396   0.70958592] [0.00156892 0.00316496] [0.81362943 0.71811213]\n",
      "[0.788928  0.6851926] [0.00796543 0.01305507] [0.79623247 0.68835827]\n",
      "[0.495324   0.40950154] [0.0299664  0.04229156] [0.4950122 0.4168855]\n",
      "[0.817216   0.72494503] [0.00107788 0.00254394] [0.81606788 0.7237359 ]\n"
     ]
    }
   ],
   "source": [
    "for model in [least_squares, least_squares_GD, least_squares_SGD,logistic_regression]:\n",
    "    crossval = MultiPartitionCrossVal(model,predict_labels,[acc_score, f1_score],refit=False)\n",
    "    _,_, scores_mean, scores_std, train_scores_mean = crossval.fit(y, tX,pipeline,addition_on_train=remove_outliers, gamma=1, early_stopping=True)\n",
    "    print(scores_mean, scores_std, train_scores_mean)"
   ]
  },
  {
   "cell_type": "code",
   "execution_count": 162,
   "metadata": {},
   "outputs": [
    {
     "name": "stdout",
     "output_type": "stream",
     "text": [
      "{'lambda_': 0.0001} [0.81332    0.71492009] [0.8119489  0.71554668]\n",
      "{'lambda_': 0.0002782559402207126} [0.813184   0.71385586] [0.81125514 0.71397586]\n",
      "{'lambda_': 0.000774263682681127} [0.811764  0.7105651] [0.80999311 0.71116026]\n",
      "{'lambda_': 0.002154434690031882} [0.809392   0.70599772] [0.80717084 0.70534567]\n",
      "{'lambda_': 0.005994842503189409} [0.804788   0.69817336] [0.80220941 0.69566008]\n",
      "{'lambda_': 0.016681005372000592} [0.796824   0.68686077] [0.79492902 0.68217072]\n",
      "{'lambda_': 0.046415888336127774} [0.78496    0.67110478] [0.78645567 0.66788181]\n",
      "{'lambda_': 0.12915496650148828} [0.771648  0.6563666] [0.77937688 0.65819679]\n",
      "{'lambda_': 0.3593813663804626} [0.757732   0.64442959] [0.77146282 0.65101188]\n",
      "{'lambda_': 1.0} [0.740708   0.62961718] [0.75896261 0.63930799]\n",
      "([0.8133199999999998, 0.7149200941966323], [0.0011819306240215476, 0.0024035432720495853]) (('lambda_', 0.0001),)\n",
      "===============\n",
      "{'lambda_': 0.0001} [0.816976   0.72423903] [0.8156877  0.72293546]\n",
      "{'lambda_': 0.0002782559402207126} [0.816568   0.72307697] [0.81496739 0.7213873 ]\n",
      "{'lambda_': 0.000774263682681127} [0.814912   0.71929542] [0.81304765 0.71751918]\n",
      "{'lambda_': 0.002154434690031882} [0.810304   0.71050812] [0.80829252 0.7082423 ]\n",
      "{'lambda_': 0.005994842503189409} [0.80054    0.69559166] [0.79939689 0.69230891]\n",
      "{'lambda_': 0.016681005372000592} [0.787092   0.67755157] [0.78948871 0.67570527]\n",
      "{'lambda_': 0.046415888336127774} [0.772792   0.66043644] [0.78099455 0.66300071]\n",
      "{'lambda_': 0.12915496650148828} [0.75936    0.64728097] [0.77311824 0.65431303]\n",
      "{'lambda_': 0.3593813663804626} [0.744196   0.63310239] [0.76189206 0.64271146]\n",
      "{'lambda_': 1.0} [0.696272  0.5525027] [0.71182868 0.55083576]\n",
      "([0.816976, 0.7242390321013465], [0.00113090406312827, 0.00253152534591867]) (('lambda_', 0.0001),)\n",
      "===============\n"
     ]
    }
   ],
   "source": [
    "lambda_grids = {'lambda_':np.logspace(-4, 0, 10).tolist()}\n",
    "for model in [ridge_regression, reg_logistic_regression]:\n",
    "    gridsearch = GridSearchCV(model,predict_labels,[acc_score,f1_score],lambda_grids, MultiPartitionCrossVal, refit=False)\n",
    "    _,_, scores, best_params, _ = gridsearch.fit(y, tX, pipeline,addition_on_train=remove_outliers, gamma=1, early_stopping=True)\n",
    "    print(scores, best_params)\n",
    "    print(\"===============\")"
   ]
  },
  {
   "cell_type": "markdown",
   "metadata": {},
   "source": [
    "# Grid search degree"
   ]
  },
  {
   "cell_type": "markdown",
   "metadata": {},
   "source": [
    "## Degree 2<a class=\"anchor\" id=\"deg2\"></a>\n",
    "[Back to top](#top)"
   ]
  },
  {
   "cell_type": "code",
   "execution_count": 233,
   "metadata": {},
   "outputs": [],
   "source": [
    "pipeline = Pipeline(Imputer(replacenan='mean'), PolynomialFeature(degree=2), Normalizer())"
   ]
  },
  {
   "cell_type": "code",
   "execution_count": 234,
   "metadata": {},
   "outputs": [
    {
     "name": "stdout",
     "output_type": "stream",
     "text": [
      "[0.814008   0.71339693] [0.00117389 0.00266381] [0.814849   0.71476799]\n"
     ]
    }
   ],
   "source": [
    "for model in [logistic_regression]:\n",
    "    crossval = MultiPartitionCrossVal(model,predict_labels,[acc_score, f1_score],refit=False)\n",
    "    _,_, scores_mean, scores_std, train_scores_mean = crossval.fit(y, tX,pipeline, gamma=1, early_stopping=True)\n",
    "    print(scores_mean, scores_std, train_scores_mean)"
   ]
  },
  {
   "cell_type": "code",
   "execution_count": 235,
   "metadata": {},
   "outputs": [
    {
     "name": "stdout",
     "output_type": "stream",
     "text": [
      "{'lambda_': 0.0001} [0.813716   0.71291014] [0.814437   0.71401943]\n",
      "{'lambda_': 0.0002782559402207126} [0.81276    0.71108953] [0.813508   0.71223328]\n",
      "{'lambda_': 0.000774263682681127} [0.810128   0.70629762] [0.81105    0.70760872]\n",
      "{'lambda_': 0.002154434690031882} [0.805216   0.69705609] [0.805743   0.69793082]\n",
      "{'lambda_': 0.005994842503189409} [0.797388   0.68321683] [0.798038   0.68420306]\n",
      "{'lambda_': 0.016681005372000592} [0.789164   0.66914296] [0.789592   0.66990038]\n",
      "{'lambda_': 0.046415888336127774} [0.781276   0.65836647] [0.781852   0.65920094]\n",
      "{'lambda_': 0.12915496650148828} [0.768108   0.64645248] [0.768283   0.64680931]\n",
      "{'lambda_': 0.3593813663804626} [0.739368   0.61829387] [0.739629   0.61847744]\n",
      "{'lambda_': 1.0} [0.623132   0.43794767] [0.623093   0.43781832]\n",
      "([0.813716, 0.7129101374485363], [0.001177617934646034, 0.0026320535893520794]) (('lambda_', 0.0001),)\n",
      "===============\n"
     ]
    }
   ],
   "source": [
    "lambda_grids = {'lambda_':np.logspace(-4, 0, 10).tolist()}\n",
    "for model in [reg_logistic_regression]:\n",
    "    gridsearch = GridSearchCV(model,predict_labels,[acc_score,f1_score],lambda_grids, MultiPartitionCrossVal, refit=False)\n",
    "    _,_, scores, best_params, _ = gridsearch.fit(y, tX, pipeline, gamma=1, early_stopping=True)\n",
    "    print(scores, best_params)\n",
    "    print(\"===============\")"
   ]
  },
  {
   "cell_type": "markdown",
   "metadata": {},
   "source": [
    "## Degree 3<a class=\"anchor\" id=\"deg3\"></a>\n",
    "[Back to top](#top)"
   ]
  },
  {
   "cell_type": "code",
   "execution_count": 194,
   "metadata": {},
   "outputs": [],
   "source": [
    "pipeline = Pipeline(Imputer(replacenan='mean'), PolynomialFeature(degree=3), Normalizer())"
   ]
  },
  {
   "cell_type": "code",
   "execution_count": 195,
   "metadata": {},
   "outputs": [
    {
     "name": "stdout",
     "output_type": "stream",
     "text": [
      "[0.804412  0.6959638] [0.00155603 0.00334826] [0.805698   0.69789394]\n",
      "[0.442856  0.4426387] [0.00167186 0.00224319] [0.442716   0.44244972]\n",
      "[0.493076   0.40087998] [0.02183357 0.0376951 ] [0.491935   0.39936275]\n",
      "[0.809404   0.70602775] [0.00121269 0.00283265] [0.810515   0.70765823]\n"
     ]
    }
   ],
   "source": [
    "for model in [least_squares, least_squares_GD, least_squares_SGD,logistic_regression]:\n",
    "    crossval = MultiPartitionCrossVal(model,predict_labels,[acc_score, f1_score],refit=False)\n",
    "    _,_, scores_mean, scores_std, train_scores_mean = crossval.fit(y, tX,pipeline, gamma=1, early_stopping=True)\n",
    "    print(scores_mean, scores_std, train_scores_mean)"
   ]
  },
  {
   "cell_type": "code",
   "execution_count": 196,
   "metadata": {},
   "outputs": [
    {
     "name": "stdout",
     "output_type": "stream",
     "text": [
      "{'lambda_': 0.0001} [0.803428   0.69362701] [0.80461    0.69545739]\n",
      "{'lambda_': 0.0002782559402207126} [0.802412   0.69142343] [0.803505   0.69324586]\n",
      "{'lambda_': 0.000774263682681127} [0.800636   0.68793518] [0.80151    0.68936094]\n",
      "{'lambda_': 0.002154434690031882} [0.797756 0.682586] [0.79871    0.68405312]\n",
      "{'lambda_': 0.005994842503189409} [0.794248   0.67596725] [0.795201   0.67736812]\n",
      "{'lambda_': 0.016681005372000592} [0.78962    0.66716196] [0.790196   0.66786904]\n",
      "{'lambda_': 0.046415888336127774} [0.783948   0.65712791] [0.78474    0.65830904]\n",
      "{'lambda_': 0.12915496650148828} [0.778552   0.65117323] [0.779016  0.6518554]\n",
      "{'lambda_': 0.3593813663804626} [0.772044   0.65074805] [0.772548   0.65141496]\n",
      "{'lambda_': 1.0} [0.7612     0.65026703] [0.7615     0.65067494]\n",
      "([0.803428, 0.6936270053142235], [0.001566172404302897, 0.003611208928045982]) (('lambda_', 0.0001),)\n",
      "===============\n",
      "{'lambda_': 0.0001} [0.813536   0.71401707] [0.814134   0.71486012]\n",
      "{'lambda_': 0.0002782559402207126} [0.812092   0.71133097] [0.813182   0.71296277]\n",
      "{'lambda_': 0.000774263682681127} [0.809484   0.70632783] [0.810811   0.70847335]\n",
      "{'lambda_': 0.002154434690031882} [0.805648   0.69950367] [0.806346   0.70051353]\n",
      "{'lambda_': 0.005994842503189409} [0.79706    0.68339623] [0.797923   0.68495516]\n",
      "{'lambda_': 0.016681005372000592} [0.787012   0.66552112] [0.787855   0.66714312]\n",
      "{'lambda_': 0.046415888336127774} [0.7762    0.6501523] [0.776858   0.65105741]\n",
      "{'lambda_': 0.12915496650148828} [0.760716   0.63645568] [0.76105    0.63700601]\n",
      "{'lambda_': 0.3593813663804626} [0.722208   0.60786345] [0.722338   0.60812062]\n",
      "{'lambda_': 1.0} [0.6085     0.41783928] [0.608469   0.41746382]\n",
      "([0.813536, 0.7140170724084167], [0.0010855708175886304, 0.0013504990750149743]) (('lambda_', 0.0001),)\n",
      "===============\n"
     ]
    }
   ],
   "source": [
    "lambda_grids = {'lambda_':np.logspace(-4, 0, 10).tolist()}\n",
    "for model in [ridge_regression, reg_logistic_regression]:\n",
    "    gridsearch = GridSearchCV(model,predict_labels,[acc_score,f1_score],lambda_grids, MultiPartitionCrossVal, refit=False)\n",
    "    _,_, scores, best_params, _ = gridsearch.fit(y, tX, pipeline, gamma=1, early_stopping=True)\n",
    "    print(scores, best_params)\n",
    "    print(\"===============\")"
   ]
  },
  {
   "cell_type": "markdown",
   "metadata": {},
   "source": [
    "## Degree 4<a class=\"anchor\" id=\"deg4\"></a>\n",
    "[Back to top](#top)"
   ]
  },
  {
   "cell_type": "code",
   "execution_count": 242,
   "metadata": {},
   "outputs": [],
   "source": [
    "pipeline = Pipeline(Imputer(replacenan='mean'),PolynomialFeature(degree=4), Normalizer())"
   ]
  },
  {
   "cell_type": "code",
   "execution_count": 243,
   "metadata": {},
   "outputs": [
    {
     "name": "stdout",
     "output_type": "stream",
     "text": [
      "[0.809928   0.70746394] [0.00134287 0.00282417] [0.811144  0.7093707]\n"
     ]
    }
   ],
   "source": [
    "for model in [logistic_regression]:\n",
    "    crossval = MultiPartitionCrossVal(model,predict_labels,[acc_score, f1_score],refit=False)\n",
    "    _,_, scores_mean, scores_std, train_scores_mean = crossval.fit(y, tX,pipeline, gamma=1, early_stopping=True)\n",
    "    print(scores_mean, scores_std, train_scores_mean)"
   ]
  },
  {
   "cell_type": "code",
   "execution_count": 244,
   "metadata": {},
   "outputs": [
    {
     "name": "stdout",
     "output_type": "stream",
     "text": [
      "{'lambda_': 0.0001} [0.813052   0.71398582] [0.813845   0.71515177]\n",
      "{'lambda_': 0.0002782559402207126} [0.812476   0.71315009] [0.813074   0.71395606]\n",
      "{'lambda_': 0.000774263682681127} [0.810116   0.70797974] [0.811096   0.70951455]\n",
      "{'lambda_': 0.002154434690031882} [0.80456    0.69875729] [0.805847   0.70086143]\n",
      "{'lambda_': 0.005994842503189409} [0.796508  0.6847419] [0.797401   0.68620281]\n",
      "{'lambda_': 0.016681005372000592} [0.787084   0.66841462] [0.787492   0.66899264]\n",
      "{'lambda_': 0.046415888336127774} [0.77478    0.65092243] [0.775189  0.6511619]\n",
      "{'lambda_': 0.12915496650148828} [0.756816   0.63726899] [0.757161   0.63794537]\n",
      "{'lambda_': 0.3593813663804626} [0.711576  0.5964134] [0.71107    0.59597678]\n",
      "{'lambda_': 1.0} [0.60398    0.41774552] [0.604066   0.41759048]\n",
      "([0.8130520000000001, 0.7139858194691941], [0.0012612121153874262, 0.00373780125897389]) (('lambda_', 0.0001),)\n",
      "===============\n"
     ]
    }
   ],
   "source": [
    "lambda_grids = {'lambda_':np.logspace(-4, 0, 10).tolist()}\n",
    "for model in [reg_logistic_regression]:\n",
    "    gridsearch = GridSearchCV(model,predict_labels,[acc_score,f1_score],lambda_grids, MultiPartitionCrossVal, refit=False)\n",
    "    _,_, scores, best_params, _ = gridsearch.fit(y, tX, pipeline, gamma=1, early_stopping=True)\n",
    "    print(scores, best_params)\n",
    "    print(\"===============\")"
   ]
  },
  {
   "cell_type": "markdown",
   "metadata": {},
   "source": [
    "## Degree 5<a class=\"anchor\" id=\"deg5\"></a>\n",
    "[Back to top](#top)"
   ]
  },
  {
   "cell_type": "code",
   "execution_count": 239,
   "metadata": {},
   "outputs": [],
   "source": [
    "pipeline = Pipeline(Imputer(replacenan='mean'), PolynomialFeature(degree=5), Normalizer())"
   ]
  },
  {
   "cell_type": "code",
   "execution_count": 240,
   "metadata": {},
   "outputs": [
    {
     "name": "stdout",
     "output_type": "stream",
     "text": [
      "[0.810688   0.70920358] [0.00123188 0.00262929] [0.812125   0.71137924]\n"
     ]
    }
   ],
   "source": [
    "for model in [logistic_regression]:\n",
    "    crossval = MultiPartitionCrossVal(model,predict_labels,[acc_score, f1_score],refit=False)\n",
    "    _,_, scores_mean, scores_std, train_scores_mean = crossval.fit(y, tX,pipeline,gamma=1, early_stopping=True)\n",
    "    print(scores_mean, scores_std, train_scores_mean)"
   ]
  },
  {
   "cell_type": "code",
   "execution_count": 241,
   "metadata": {},
   "outputs": [
    {
     "name": "stdout",
     "output_type": "stream",
     "text": [
      "{'lambda_': 0.0001} [0.813376   0.71465139] [0.814645   0.71650224]\n",
      "{'lambda_': 0.0002782559402207126} [0.812256   0.71253257] [0.813495   0.71432638]\n",
      "{'lambda_': 0.000774263682681127} [0.809368   0.70764561] [0.810864   0.71009459]\n",
      "{'lambda_': 0.002154434690031882} [0.805232   0.69968277] [0.806103   0.70079968]\n",
      "{'lambda_': 0.005994842503189409} [0.796764   0.68509711] [0.797646   0.68635812]\n",
      "{'lambda_': 0.016681005372000592} [0.787164  0.6689665] [0.788083   0.67027612]\n",
      "{'lambda_': 0.046415888336127774} [0.774196   0.65240601] [0.775012   0.65342794]\n",
      "{'lambda_': 0.12915496650148828} [0.75556    0.63788034] [0.756044   0.63857053]\n",
      "{'lambda_': 0.3593813663804626} [0.701744   0.58969104] [0.701707   0.58990584]\n",
      "{'lambda_': 1.0} [0.607604   0.43040041] [0.607433   0.43003086]\n",
      "([0.8133760000000001, 0.7146513930993174], [0.0012568786735401198, 0.003652745075022674]) (('lambda_', 0.0001),)\n",
      "===============\n"
     ]
    }
   ],
   "source": [
    "lambda_grids = {'lambda_':np.logspace(-4, 0, 10).tolist()}\n",
    "for model in [reg_logistic_regression]:\n",
    "    gridsearch = GridSearchCV(model,predict_labels,[acc_score,f1_score],lambda_grids, MultiPartitionCrossVal, refit=False)\n",
    "    _,_, scores, best_params, _ = gridsearch.fit(y, tX, pipeline, gamma=1, early_stopping=True)\n",
    "    print(scores, best_params)\n",
    "    print(\"===============\")"
   ]
  },
  {
   "cell_type": "markdown",
   "metadata": {},
   "source": [
    "# Test cross features<a class=\"anchor\" id=\"crossfeat\"></a>\n",
    "[Back to top](#top)"
   ]
  },
  {
   "cell_type": "code",
   "execution_count": 172,
   "metadata": {},
   "outputs": [],
   "source": [
    "pipeline = Pipeline(PolynomialFeature(degree=3, cross_feat=True), Normalizer())"
   ]
  },
  {
   "cell_type": "code",
   "execution_count": 173,
   "metadata": {},
   "outputs": [
    {
     "name": "stdout",
     "output_type": "stream",
     "text": [
      "[0.701196   0.61763487] [0.00852133 0.00777065] [0.79227946 0.67365436]\n"
     ]
    }
   ],
   "source": [
    "for model in [logistic_regression]:\n",
    "    crossval = MultiPartitionCrossVal(model,predict_labels,[acc_score, f1_score],refit=False)\n",
    "    _,_, scores_mean, scores_std, train_scores_mean = crossval.fit(y, tX,pipeline,addition_on_train=remove_outliers, gamma=1, early_stopping=True)\n",
    "    print(scores_mean, scores_std, train_scores_mean)"
   ]
  },
  {
   "cell_type": "code",
   "execution_count": 174,
   "metadata": {},
   "outputs": [
    {
     "name": "stdout",
     "output_type": "stream",
     "text": [
      "{'lambda_': 0.0001} [0.721116   0.61040352] [0.75472871 0.59387318]\n",
      "{'lambda_': 0.0002782559402207126} [0.717204   0.61266196] [0.75177774 0.61013748]\n",
      "{'lambda_': 0.000774263682681127} [0.701676   0.59665187] [0.73425524 0.59312896]\n",
      "{'lambda_': 0.002154434690031882} [0.703296  0.5930756] [0.7441308  0.60819716]\n",
      "{'lambda_': 0.005994842503189409} [0.689908   0.57718048] [0.73059638 0.5891272 ]\n",
      "{'lambda_': 0.016681005372000592} [0.6554     0.54786897] [0.70582058 0.576512  ]\n",
      "{'lambda_': 0.046415888336127774} [0.648988   0.53377204] [0.68117336 0.51951268]\n",
      "{'lambda_': 0.12915496650148828} [0.595616   0.49874908] [0.64193844 0.51493984]\n",
      "{'lambda_': 0.3593813663804626} [0.539016   0.45122599] [0.57650176 0.46925994]\n",
      "{'lambda_': 1.0} [0.55412    0.43351646] [0.53857923 0.38042379]\n",
      "([0.7211160000000001, 0.6104035202362443], [0.01020421403146758, 0.01700496303751363]) (('lambda_', 0.0001),)\n",
      "===============\n"
     ]
    }
   ],
   "source": [
    "lambda_grids = {'lambda_':np.logspace(-4, 0, 10).tolist()}\n",
    "for model in [reg_logistic_regression]:\n",
    "    gridsearch = GridSearchCV(model,predict_labels,[acc_score,f1_score],lambda_grids, MultiPartitionCrossVal, refit=False)\n",
    "    _,_, scores, best_params, _ = gridsearch.fit(y, tX, pipeline,addition_on_train=remove_outliers, gamma=1, early_stopping=True)\n",
    "    print(scores, best_params)\n",
    "    print(\"===============\")"
   ]
  },
  {
   "cell_type": "markdown",
   "metadata": {},
   "source": [
    "# Test non-linear transformation<a class=\"anchor\" id=\"nonlinear\"></a>\n",
    "[Back to top](#top)"
   ]
  },
  {
   "cell_type": "code",
   "execution_count": 188,
   "metadata": {},
   "outputs": [],
   "source": [
    "pipeline = Pipeline(NonLinearTransformer([lambda x: np.sqrt(np.abs(x)), np.sin]),PolynomialFeature(degree=3), Normalizer())"
   ]
  },
  {
   "cell_type": "code",
   "execution_count": 189,
   "metadata": {},
   "outputs": [
    {
     "name": "stdout",
     "output_type": "stream",
     "text": [
      "[0.812504   0.72334777] [0.00103347 0.00192255] [0.81489463 0.72716698]\n"
     ]
    }
   ],
   "source": [
    "for model in [logistic_regression]:\n",
    "    crossval = MultiPartitionCrossVal(model,predict_labels,[acc_score, f1_score],refit=False)\n",
    "    _,_, scores_mean, scores_std, train_scores_mean = crossval.fit(y, tX,pipeline,addition_on_train=remove_outliers, gamma=1, early_stopping=True)\n",
    "    print(scores_mean, scores_std, train_scores_mean)"
   ]
  },
  {
   "cell_type": "code",
   "execution_count": 190,
   "metadata": {},
   "outputs": [
    {
     "name": "stdout",
     "output_type": "stream",
     "text": [
      "{'lambda_': 0.0001} [0.80854    0.71467158] [0.80875082 0.717147  ]\n",
      "{'lambda_': 0.0002782559402207126} [0.80666    0.70937121] [0.80666107 0.71154452]\n",
      "{'lambda_': 0.000774263682681127} [0.801616   0.70095647] [0.80160967 0.70316896]\n",
      "{'lambda_': 0.002154434690031882} [0.7911     0.68782986] [0.7902298 0.6933037]\n",
      "{'lambda_': 0.005994842503189409} [0.77596    0.67165008] [0.77606838 0.6793397 ]\n",
      "{'lambda_': 0.016681005372000592} [0.764348   0.64192728] [0.76677595 0.64262441]\n",
      "{'lambda_': 0.046415888336127774} [0.744092   0.62025099] [0.75417765 0.62983176]\n",
      "{'lambda_': 0.12915496650148828} [0.693576   0.57847097] [0.71434349 0.60368109]\n",
      "{'lambda_': 0.3593813663804626} [0.62362    0.52920554] [0.63937697 0.55349507]\n",
      "{'lambda_': 1.0} [0.569052   0.41150758] [0.57437016 0.39015329]\n",
      "([0.80854, 0.7146715809459194], [0.0008798181630314519, 0.006476959784086239]) (('lambda_', 0.0001),)\n",
      "===============\n"
     ]
    }
   ],
   "source": [
    "lambda_grids = {'lambda_':np.logspace(-4, 0, 10).tolist()}\n",
    "for model in [reg_logistic_regression]:\n",
    "    gridsearch = GridSearchCV(model,predict_labels,[acc_score,f1_score],lambda_grids, MultiPartitionCrossVal, refit=False)\n",
    "    _,_, scores, best_params, _ = gridsearch.fit(y, tX, pipeline,addition_on_train=remove_outliers, gamma=1, early_stopping=True)\n",
    "    print(scores, best_params)\n",
    "    print(\"===============\")"
   ]
  },
  {
   "cell_type": "code",
   "execution_count": 191,
   "metadata": {},
   "outputs": [],
   "source": [
    "pipeline = Pipeline(NonLinearTransformer([lambda x: np.sqrt(np.abs(x)), np.sin]),PolynomialFeature(degree=2,cross_feat=True), Normalizer())"
   ]
  },
  {
   "cell_type": "code",
   "execution_count": 192,
   "metadata": {},
   "outputs": [
    {
     "name": "stdout",
     "output_type": "stream",
     "text": [
      "[0.760368   0.67337469] [0.00253786 0.00364473] [0.80486955 0.71214998]\n"
     ]
    }
   ],
   "source": [
    "for model in [logistic_regression]:\n",
    "    crossval = MultiPartitionCrossVal(model,predict_labels,[acc_score, f1_score],refit=False)\n",
    "    _,_, scores_mean, scores_std, train_scores_mean = crossval.fit(y, tX,pipeline,addition_on_train=remove_outliers, gamma=1, early_stopping=True)\n",
    "    print(scores_mean, scores_std, train_scores_mean)"
   ]
  },
  {
   "cell_type": "code",
   "execution_count": 193,
   "metadata": {},
   "outputs": [
    {
     "name": "stdout",
     "output_type": "stream",
     "text": [
      "{'lambda_': 0.0001} [0.743892   0.64487943] [0.75502702 0.64869473]\n",
      "{'lambda_': 0.0002782559402207126} [0.744136   0.64085874] [0.75641389 0.64617246]\n",
      "{'lambda_': 0.000774263682681127} [0.747976  0.6421104] [0.75813889 0.64377433]\n",
      "{'lambda_': 0.002154434690031882} [0.72592   0.6145374] [0.73299394 0.60620009]\n"
     ]
    },
    {
     "ename": "KeyboardInterrupt",
     "evalue": "",
     "output_type": "error",
     "traceback": [
      "\u001b[0;31m---------------------------------------------------------------------------\u001b[0m",
      "\u001b[0;31mKeyboardInterrupt\u001b[0m                         Traceback (most recent call last)",
      "\u001b[0;32m<ipython-input-193-8d69a5860574>\u001b[0m in \u001b[0;36m<module>\u001b[0;34m\u001b[0m\n\u001b[1;32m      2\u001b[0m \u001b[0;32mfor\u001b[0m \u001b[0mmodel\u001b[0m \u001b[0;32min\u001b[0m \u001b[0;34m[\u001b[0m\u001b[0mreg_logistic_regression\u001b[0m\u001b[0;34m]\u001b[0m\u001b[0;34m:\u001b[0m\u001b[0;34m\u001b[0m\u001b[0;34m\u001b[0m\u001b[0m\n\u001b[1;32m      3\u001b[0m     \u001b[0mgridsearch\u001b[0m \u001b[0;34m=\u001b[0m \u001b[0mGridSearchCV\u001b[0m\u001b[0;34m(\u001b[0m\u001b[0mmodel\u001b[0m\u001b[0;34m,\u001b[0m\u001b[0mpredict_labels\u001b[0m\u001b[0;34m,\u001b[0m\u001b[0;34m[\u001b[0m\u001b[0macc_score\u001b[0m\u001b[0;34m,\u001b[0m\u001b[0mf1_score\u001b[0m\u001b[0;34m]\u001b[0m\u001b[0;34m,\u001b[0m\u001b[0mlambda_grids\u001b[0m\u001b[0;34m,\u001b[0m \u001b[0mMultiPartitionCrossVal\u001b[0m\u001b[0;34m,\u001b[0m \u001b[0mrefit\u001b[0m\u001b[0;34m=\u001b[0m\u001b[0;32mFalse\u001b[0m\u001b[0;34m)\u001b[0m\u001b[0;34m\u001b[0m\u001b[0;34m\u001b[0m\u001b[0m\n\u001b[0;32m----> 4\u001b[0;31m     \u001b[0m_\u001b[0m\u001b[0;34m,\u001b[0m\u001b[0m_\u001b[0m\u001b[0;34m,\u001b[0m \u001b[0mscores\u001b[0m\u001b[0;34m,\u001b[0m \u001b[0mbest_params\u001b[0m\u001b[0;34m,\u001b[0m \u001b[0m_\u001b[0m \u001b[0;34m=\u001b[0m \u001b[0mgridsearch\u001b[0m\u001b[0;34m.\u001b[0m\u001b[0mfit\u001b[0m\u001b[0;34m(\u001b[0m\u001b[0my\u001b[0m\u001b[0;34m,\u001b[0m \u001b[0mtX\u001b[0m\u001b[0;34m,\u001b[0m \u001b[0mpipeline\u001b[0m\u001b[0;34m,\u001b[0m\u001b[0maddition_on_train\u001b[0m\u001b[0;34m=\u001b[0m\u001b[0mremove_outliers\u001b[0m\u001b[0;34m,\u001b[0m \u001b[0mgamma\u001b[0m\u001b[0;34m=\u001b[0m\u001b[0;36m1\u001b[0m\u001b[0;34m,\u001b[0m \u001b[0mearly_stopping\u001b[0m\u001b[0;34m=\u001b[0m\u001b[0;32mTrue\u001b[0m\u001b[0;34m)\u001b[0m\u001b[0;34m\u001b[0m\u001b[0;34m\u001b[0m\u001b[0m\n\u001b[0m\u001b[1;32m      5\u001b[0m     \u001b[0mprint\u001b[0m\u001b[0;34m(\u001b[0m\u001b[0mscores\u001b[0m\u001b[0;34m,\u001b[0m \u001b[0mbest_params\u001b[0m\u001b[0;34m)\u001b[0m\u001b[0;34m\u001b[0m\u001b[0;34m\u001b[0m\u001b[0m\n\u001b[1;32m      6\u001b[0m     \u001b[0mprint\u001b[0m\u001b[0;34m(\u001b[0m\u001b[0;34m\"===============\"\u001b[0m\u001b[0;34m)\u001b[0m\u001b[0;34m\u001b[0m\u001b[0;34m\u001b[0m\u001b[0m\n",
      "\u001b[0;32m~/ML_project1/crossval.py\u001b[0m in \u001b[0;36mfit\u001b[0;34m(self, y, tX, pipeline, addition_on_train, addition_on_test, verbose, **kwargs)\u001b[0m\n\u001b[1;32m    260\u001b[0m         \u001b[0;32mfor\u001b[0m \u001b[0mparams\u001b[0m \u001b[0;32min\u001b[0m \u001b[0mself\u001b[0m\u001b[0;34m.\u001b[0m\u001b[0mproduct\u001b[0m\u001b[0;34m(\u001b[0m\u001b[0mself\u001b[0m\u001b[0;34m.\u001b[0m\u001b[0mparams_grid\u001b[0m\u001b[0;34m)\u001b[0m\u001b[0;34m:\u001b[0m\u001b[0;34m\u001b[0m\u001b[0;34m\u001b[0m\u001b[0m\n\u001b[1;32m    261\u001b[0m             \u001b[0mcrossval\u001b[0m \u001b[0;34m=\u001b[0m \u001b[0mself\u001b[0m\u001b[0;34m.\u001b[0m\u001b[0mcross_val\u001b[0m\u001b[0;34m(\u001b[0m\u001b[0mself\u001b[0m\u001b[0;34m.\u001b[0m\u001b[0mmodel\u001b[0m\u001b[0;34m,\u001b[0m \u001b[0mself\u001b[0m\u001b[0;34m.\u001b[0m\u001b[0mpred_functs\u001b[0m\u001b[0;34m,\u001b[0m \u001b[0mself\u001b[0m\u001b[0;34m.\u001b[0m\u001b[0macc_functs\u001b[0m\u001b[0;34m,\u001b[0m \u001b[0mself\u001b[0m\u001b[0;34m.\u001b[0m\u001b[0mnfold\u001b[0m\u001b[0;34m,\u001b[0m \u001b[0mrefit\u001b[0m\u001b[0;34m=\u001b[0m\u001b[0;32mFalse\u001b[0m\u001b[0;34m,\u001b[0m \u001b[0mseed\u001b[0m\u001b[0;34m=\u001b[0m\u001b[0mself\u001b[0m\u001b[0;34m.\u001b[0m\u001b[0mseed\u001b[0m\u001b[0;34m)\u001b[0m\u001b[0;34m\u001b[0m\u001b[0;34m\u001b[0m\u001b[0m\n\u001b[0;32m--> 262\u001b[0;31m             \u001b[0m_\u001b[0m\u001b[0;34m,\u001b[0m \u001b[0m_\u001b[0m\u001b[0;34m,\u001b[0m \u001b[0mtest_scores_mean\u001b[0m\u001b[0;34m,\u001b[0m \u001b[0mtest_scores_std\u001b[0m\u001b[0;34m,\u001b[0m \u001b[0mtrain_scores_mean\u001b[0m \u001b[0;34m=\u001b[0m \u001b[0mcrossval\u001b[0m\u001b[0;34m.\u001b[0m\u001b[0mfit\u001b[0m\u001b[0;34m(\u001b[0m\u001b[0my\u001b[0m\u001b[0;34m,\u001b[0m\u001b[0mtX\u001b[0m\u001b[0;34m,\u001b[0m \u001b[0mpipeline\u001b[0m\u001b[0;34m,\u001b[0m \u001b[0maddition_on_train\u001b[0m\u001b[0;34m,\u001b[0m \u001b[0maddition_on_test\u001b[0m\u001b[0;34m,\u001b[0m\u001b[0;34m**\u001b[0m\u001b[0mparams\u001b[0m\u001b[0;34m)\u001b[0m\u001b[0;34m\u001b[0m\u001b[0;34m\u001b[0m\u001b[0m\n\u001b[0m\u001b[1;32m    263\u001b[0m             \u001b[0;32mif\u001b[0m \u001b[0mverbose\u001b[0m\u001b[0;34m:\u001b[0m\u001b[0;34m\u001b[0m\u001b[0;34m\u001b[0m\u001b[0m\n\u001b[1;32m    264\u001b[0m                 \u001b[0mprint\u001b[0m\u001b[0;34m(\u001b[0m\u001b[0mparams\u001b[0m\u001b[0;34m,\u001b[0m \u001b[0mtest_scores_mean\u001b[0m\u001b[0;34m,\u001b[0m \u001b[0mtrain_scores_mean\u001b[0m\u001b[0;34m)\u001b[0m\u001b[0;34m\u001b[0m\u001b[0;34m\u001b[0m\u001b[0m\n",
      "\u001b[0;32m~/ML_project1/crossval.py\u001b[0m in \u001b[0;36mfit\u001b[0;34m(self, y, tX, pipeline, addition_on_train, addition_on_test, **kwargs)\u001b[0m\n\u001b[1;32m    208\u001b[0m                             \u001b[0msub_x_test_mass\u001b[0m\u001b[0;34m,\u001b[0m \u001b[0msub_y_test_mass\u001b[0m \u001b[0;34m=\u001b[0m \u001b[0maddition_on_test\u001b[0m\u001b[0;34m(\u001b[0m\u001b[0msub_x_test_mass\u001b[0m\u001b[0;34m,\u001b[0m\u001b[0msub_y_test_mass\u001b[0m\u001b[0;34m)\u001b[0m\u001b[0;34m\u001b[0m\u001b[0;34m\u001b[0m\u001b[0m\n\u001b[1;32m    209\u001b[0m \u001b[0;34m\u001b[0m\u001b[0m\n\u001b[0;32m--> 210\u001b[0;31m                     \u001b[0mw\u001b[0m\u001b[0;34m,\u001b[0m \u001b[0mloss\u001b[0m \u001b[0;34m=\u001b[0m \u001b[0mself\u001b[0m\u001b[0;34m.\u001b[0m\u001b[0mmodel\u001b[0m\u001b[0;34m(\u001b[0m\u001b[0msub_y_train_mass\u001b[0m\u001b[0;34m,\u001b[0m \u001b[0msub_x_train_mass\u001b[0m\u001b[0;34m,\u001b[0m \u001b[0;34m**\u001b[0m\u001b[0mkwargs\u001b[0m\u001b[0;34m)\u001b[0m\u001b[0;34m\u001b[0m\u001b[0;34m\u001b[0m\u001b[0m\n\u001b[0m\u001b[1;32m    211\u001b[0m                     \u001b[0msub_y_test_pred\u001b[0m \u001b[0;34m=\u001b[0m \u001b[0mself\u001b[0m\u001b[0;34m.\u001b[0m\u001b[0mpred_functs\u001b[0m\u001b[0;34m(\u001b[0m\u001b[0mw\u001b[0m\u001b[0;34m,\u001b[0m \u001b[0msub_x_test_mass\u001b[0m\u001b[0;34m)\u001b[0m\u001b[0;34m\u001b[0m\u001b[0;34m\u001b[0m\u001b[0m\n\u001b[1;32m    212\u001b[0m                     \u001b[0msub_y_train_pred\u001b[0m \u001b[0;34m=\u001b[0m \u001b[0mself\u001b[0m\u001b[0;34m.\u001b[0m\u001b[0mpred_functs\u001b[0m\u001b[0;34m(\u001b[0m\u001b[0mw\u001b[0m\u001b[0;34m,\u001b[0m \u001b[0msub_x_train_mass\u001b[0m\u001b[0;34m)\u001b[0m\u001b[0;34m\u001b[0m\u001b[0;34m\u001b[0m\u001b[0m\n",
      "\u001b[0;32m~/ML_project1/implementations.py\u001b[0m in \u001b[0;36mreg_logistic_regression\u001b[0;34m(y, tx, lambda_, initial_w, max_iters, gamma, early_stopping, tol, max_n_iter_no_change, penalty, **kwargs)\u001b[0m\n\u001b[1;32m    381\u001b[0m     \u001b[0;32mfor\u001b[0m \u001b[0mn_iter\u001b[0m \u001b[0;32min\u001b[0m \u001b[0mrange\u001b[0m\u001b[0;34m(\u001b[0m\u001b[0mmax_iters\u001b[0m\u001b[0;34m)\u001b[0m\u001b[0;34m:\u001b[0m\u001b[0;34m\u001b[0m\u001b[0;34m\u001b[0m\u001b[0m\n\u001b[1;32m    382\u001b[0m         \u001b[0;32mif\u001b[0m \u001b[0mpenalty\u001b[0m\u001b[0;34m==\u001b[0m\u001b[0;34m'l2'\u001b[0m\u001b[0;34m:\u001b[0m\u001b[0;34m\u001b[0m\u001b[0;34m\u001b[0m\u001b[0m\n\u001b[0;32m--> 383\u001b[0;31m             \u001b[0mgrad\u001b[0m \u001b[0;34m=\u001b[0m \u001b[0mcompute_log_gradient\u001b[0m\u001b[0;34m(\u001b[0m\u001b[0my\u001b[0m\u001b[0;34m,\u001b[0m \u001b[0mtx\u001b[0m\u001b[0;34m,\u001b[0m \u001b[0mw\u001b[0m\u001b[0;34m)\u001b[0m \u001b[0;34m+\u001b[0m \u001b[0mlambda_\u001b[0m \u001b[0;34m*\u001b[0m\u001b[0mw\u001b[0m\u001b[0;34m\u001b[0m\u001b[0;34m\u001b[0m\u001b[0m\n\u001b[0m\u001b[1;32m    384\u001b[0m         \u001b[0;32melif\u001b[0m \u001b[0mpenalty\u001b[0m\u001b[0;34m==\u001b[0m\u001b[0;34m'l1'\u001b[0m\u001b[0;34m:\u001b[0m\u001b[0;34m\u001b[0m\u001b[0;34m\u001b[0m\u001b[0m\n\u001b[1;32m    385\u001b[0m             \u001b[0mgrad\u001b[0m \u001b[0;34m=\u001b[0m \u001b[0mcompute_log_gradient\u001b[0m\u001b[0;34m(\u001b[0m\u001b[0my\u001b[0m\u001b[0;34m,\u001b[0m \u001b[0mtx\u001b[0m\u001b[0;34m,\u001b[0m \u001b[0mw\u001b[0m\u001b[0;34m)\u001b[0m \u001b[0;34m+\u001b[0m \u001b[0mlambda_\u001b[0m \u001b[0;34m*\u001b[0m\u001b[0mnp\u001b[0m\u001b[0;34m.\u001b[0m\u001b[0msign\u001b[0m\u001b[0;34m(\u001b[0m\u001b[0mw\u001b[0m\u001b[0;34m)\u001b[0m\u001b[0;34m\u001b[0m\u001b[0;34m\u001b[0m\u001b[0m\n",
      "\u001b[0;32m~/ML_project1/implementations.py\u001b[0m in \u001b[0;36mcompute_log_gradient\u001b[0;34m(y, tx, w, **kwargs)\u001b[0m\n\u001b[1;32m    273\u001b[0m \u001b[0;32mdef\u001b[0m \u001b[0mcompute_log_gradient\u001b[0m\u001b[0;34m(\u001b[0m\u001b[0my\u001b[0m\u001b[0;34m,\u001b[0m \u001b[0mtx\u001b[0m\u001b[0;34m,\u001b[0m \u001b[0mw\u001b[0m\u001b[0;34m,\u001b[0m\u001b[0;34m**\u001b[0m\u001b[0mkwargs\u001b[0m\u001b[0;34m)\u001b[0m\u001b[0;34m:\u001b[0m\u001b[0;34m\u001b[0m\u001b[0;34m\u001b[0m\u001b[0m\n\u001b[1;32m    274\u001b[0m     \u001b[0;34m\"\"\"compute the gradient of loss.\"\"\"\u001b[0m\u001b[0;34m\u001b[0m\u001b[0;34m\u001b[0m\u001b[0m\n\u001b[0;32m--> 275\u001b[0;31m     \u001b[0mpred\u001b[0m \u001b[0;34m=\u001b[0m \u001b[0msigmoid\u001b[0m\u001b[0;34m(\u001b[0m\u001b[0mtx\u001b[0m\u001b[0;34m.\u001b[0m\u001b[0mdot\u001b[0m\u001b[0;34m(\u001b[0m\u001b[0mw\u001b[0m\u001b[0;34m)\u001b[0m\u001b[0;34m)\u001b[0m\u001b[0;34m\u001b[0m\u001b[0;34m\u001b[0m\u001b[0m\n\u001b[0m\u001b[1;32m    276\u001b[0m     \u001b[0;32mif\u001b[0m \u001b[0;34m'weight_loss'\u001b[0m \u001b[0;32min\u001b[0m \u001b[0mkwargs\u001b[0m\u001b[0;34m:\u001b[0m\u001b[0;34m\u001b[0m\u001b[0;34m\u001b[0m\u001b[0m\n\u001b[1;32m    277\u001b[0m         \u001b[0mweight\u001b[0m \u001b[0;34m=\u001b[0m \u001b[0mnp\u001b[0m\u001b[0;34m.\u001b[0m\u001b[0mwhere\u001b[0m\u001b[0;34m(\u001b[0m\u001b[0my\u001b[0m \u001b[0;34m>\u001b[0m \u001b[0;36m0\u001b[0m\u001b[0;34m,\u001b[0m \u001b[0mkwargs\u001b[0m\u001b[0;34m[\u001b[0m\u001b[0;34m'weight_loss'\u001b[0m\u001b[0;34m]\u001b[0m\u001b[0;34m[\u001b[0m\u001b[0;36m1\u001b[0m\u001b[0;34m]\u001b[0m\u001b[0;34m,\u001b[0m \u001b[0mkwargs\u001b[0m\u001b[0;34m[\u001b[0m\u001b[0;34m'weight_loss'\u001b[0m\u001b[0;34m]\u001b[0m\u001b[0;34m[\u001b[0m\u001b[0;36m0\u001b[0m\u001b[0;34m]\u001b[0m\u001b[0;34m)\u001b[0m\u001b[0;34m\u001b[0m\u001b[0;34m\u001b[0m\u001b[0m\n",
      "\u001b[0;31mKeyboardInterrupt\u001b[0m: "
     ]
    }
   ],
   "source": [
    "lambda_grids = {'lambda_':np.logspace(-4, 0, 10).tolist()}\n",
    "for model in [reg_logistic_regression]:\n",
    "    gridsearch = GridSearchCV(model,predict_labels,[acc_score,f1_score],lambda_grids, MultiPartitionCrossVal, refit=False)\n",
    "    _,_, scores, best_params, _ = gridsearch.fit(y, tX, pipeline,addition_on_train=remove_outliers, gamma=1, early_stopping=True)\n",
    "    print(scores, best_params)\n",
    "    print(\"===============\")"
   ]
  },
  {
   "cell_type": "code",
   "execution_count": null,
   "metadata": {},
   "outputs": [],
   "source": []
  }
 ],
 "metadata": {
  "kernelspec": {
   "display_name": "Python 3",
   "language": "python",
   "name": "python3"
  },
  "language_info": {
   "codemirror_mode": {
    "name": "ipython",
    "version": 3
   },
   "file_extension": ".py",
   "mimetype": "text/x-python",
   "name": "python",
   "nbconvert_exporter": "python",
   "pygments_lexer": "ipython3",
   "version": "3.8.8"
  }
 },
 "nbformat": 4,
 "nbformat_minor": 2
}
